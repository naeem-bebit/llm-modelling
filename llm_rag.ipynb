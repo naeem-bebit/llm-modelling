{
 "cells": [
  {
   "cell_type": "code",
   "execution_count": 41,
   "id": "c74f9f86",
   "metadata": {},
   "outputs": [],
   "source": [
    "from langchain_community.document_loaders import PyPDFLoader\n",
    "from langchain_text_splitters import RecursiveCharacterTextSplitter\n",
    "\n",
    "loader = PyPDFLoader(\"pm_my.pdf\")\n",
    "data = loader.load()\n",
    "\n",
    "text_splitter = RecursiveCharacterTextSplitter(chunk_size=200, chunk_overlap=0, length_function=len, is_separator_regex=False, separators=[\n",
    "        \"\\n\\n\",\n",
    "        \".\",\n",
    "        \"\\n\",\n",
    "        \" \",\n",
    "        \".\",\n",
    "        \"\",\n",
    "        \",\",\n",
    "    ])\n",
    "all_splits = text_splitter.split_documents(data)"
   ]
  },
  {
   "cell_type": "code",
   "execution_count": 3,
   "id": "a28430ee",
   "metadata": {},
   "outputs": [],
   "source": [
    "from langchain_community.document_loaders import PDFMinerLoader\n",
    "from langchain_text_splitters import RecursiveCharacterTextSplitter\n",
    "\n",
    "loader = PDFMinerLoader(\"pm_my.pdf\")\n",
    "data = loader.load()\n",
    "text_splitter = RecursiveCharacterTextSplitter(chunk_size=200, chunk_overlap=0, length_function=len, is_separator_regex=False, separators=[\n",
    "        \"\\n\\n\",\n",
    "        \".\",\n",
    "        \"\\n\",\n",
    "        \" \",\n",
    "        \".\",\n",
    "        \"\",\n",
    "        \",\",\n",
    "    ])\n",
    "all_splits = text_splitter.split_documents(data)"
   ]
  },
  {
   "cell_type": "code",
   "execution_count": 4,
   "id": "aaf03981",
   "metadata": {},
   "outputs": [
    {
     "data": {
      "text/plain": [
       "[Document(page_content='Anwar bin Ibrahim born 10 August 1947 is a Malaysian politician who has served as the tenth Prime \\nMinister of Malaysia since 2022', metadata={'source': 'pm_my.pdf'}),\n",
       " Document(page_content='. He served as the 12th and 16th Leader of the Opposition from 2008 to \\n2015 and again from 2020 to 2022', metadata={'source': 'pm_my.pdf'}),\n",
       " Document(page_content=\". He has been the chairman of the Pakatan Harapan (PH) coalition \\nsince 2020, the second President of the People's Justice Party (PKR) since 2018 and the Member of\", metadata={'source': 'pm_my.pdf'}),\n",
       " Document(page_content='Parliament (MP) for Tambun since November 2022', metadata={'source': 'pm_my.pdf'}),\n",
       " Document(page_content='. He also served as Deputy Prime Minister and in \\nmany other Cabinet positions in the Barisan Nasional (BN) administration under former Prime Minister', metadata={'source': 'pm_my.pdf'}),\n",
       " Document(page_content='Mahathir Mohamad from 1982 to his removal in 1998', metadata={'source': 'pm_my.pdf'}),\n",
       " Document(page_content='.', metadata={'source': 'pm_my.pdf'}),\n",
       " Document(page_content='A graduate of the University of Malaya, Anwar started his political career as President of student union', metadata={'source': 'pm_my.pdf'}),\n",
       " Document(page_content='Persatuan Kebangsaan Pelajar Islam Malaysia (PKPIM)and one of the founders and 2nd President of \\nyouth organisation Angkatan Belia Islam Malaysia (ABIM)', metadata={'source': 'pm_my.pdf'}),\n",
       " Document(page_content='. After joining the United Malays National \\nOrganisation (UMNO), the major party in the long-time ruling BN coalition, Anwar held several cabinet', metadata={'source': 'pm_my.pdf'}),\n",
       " Document(page_content='positions in successive governments in the 1980s and 1990s', metadata={'source': 'pm_my.pdf'}),\n",
       " Document(page_content=\". He was deputy prime minister and Finance \\nMinister during the 1990s and was prominent in Malaysia's response to the 1997 Asian financial crisis\", metadata={'source': 'pm_my.pdf'}),\n",
       " Document(page_content='. In \\n1998, he was removed from all posts by Prime Minister Mahathir Mohamad and went on to spearhead \\nthe Reformasi movement against the government', metadata={'source': 'pm_my.pdf'}),\n",
       " Document(page_content='. Anwar was jailed in April 1999, until his release in \\n2004 after his conviction was overturned', metadata={'source': 'pm_my.pdf'}),\n",
       " Document(page_content='. He made a comeback as Leader of the Opposition from 2008 \\nto 2015 and coalesced opposition parties into the Pakatan Rakyat (PR) coalition, which unsuccessfully', metadata={'source': 'pm_my.pdf'}),\n",
       " Document(page_content='contested in the 2008 and 2013 general elections', metadata={'source': 'pm_my.pdf'}),\n",
       " Document(page_content='. He disputed the results of the 2013 elections and led \\na protest in response.', metadata={'source': 'pm_my.pdf'}),\n",
       " Document(page_content=\"In 2014, Anwar's attempt to become Selangor head of government in the 2014 Kajang Move led to a \\nnine-month political crisis, which ended when he was sentenced to another extensive five years\", metadata={'source': 'pm_my.pdf'}),\n",
       " Document(page_content='imprisonment after a second sodomy conviction in 2015', metadata={'source': 'pm_my.pdf'}),\n",
       " Document(page_content='. While still in prison, Anwar re-joined Mahathir \\nMohamad in the new Pakatan Harapan (PH) coalition in absentia, which went on to win the 2018 general \\nelection', metadata={'source': 'pm_my.pdf'}),\n",
       " Document(page_content='. Mahathir outlined a plan for Anwar to take over from himself as prime minister after an \\nunspecified interim period', metadata={'source': 'pm_my.pdf'}),\n",
       " Document(page_content='. Anwar received a royal pardon from Yang di-Pertuan Agong Muhammad V \\nand was released from prison in May 2018', metadata={'source': 'pm_my.pdf'}),\n",
       " Document(page_content='. He returned to parliament in the 2018 Port Dickson by-\\nelection while his wife Wan Azizah Wan Ismail served as the Deputy Prime Minister in the PH \\nadministration', metadata={'source': 'pm_my.pdf'}),\n",
       " Document(page_content='. The collapse of the coalition during the 2020–22 Malaysian political crisis led to the new \\nPerikatan Nasional (PN) coalition under Muhyiddin Yassin being sworn in and Anwar becoming Leader of', metadata={'source': 'pm_my.pdf'}),\n",
       " Document(page_content='the Opposition for the second time in May 2020', metadata={'source': 'pm_my.pdf'}),\n",
       " Document(page_content='.', metadata={'source': 'pm_my.pdf'}),\n",
       " Document(page_content='After leading Pakatan Harapan to win a plurality of seats at the 2022 Malaysian general election, Anwar \\nwas sworn in as the tenth Prime Minister of Malaysia on 24 November 2022', metadata={'source': 'pm_my.pdf'}),\n",
       " Document(page_content='. On 2 December 2022, \\nAnwar appointed various members of Parliament from Pakatan Harapan, Gabungan Parti Sarawak (GPS),', metadata={'source': 'pm_my.pdf'}),\n",
       " Document(page_content='and UMNO to serve as ministers in the cabinet of the newly formed unity government', metadata={'source': 'pm_my.pdf'}),\n",
       " Document(page_content='. Anwar named \\nhimself as the Finance Minister', metadata={'source': 'pm_my.pdf'}),\n",
       " Document(page_content='. During his tenure, he and his government faced criticism for \\nimplementing numerous conservative policies, as well as the discharge not amounting to the acquittal of', metadata={'source': 'pm_my.pdf'}),\n",
       " Document(page_content='current Malaysian deputy prime minister Ahmad Zahid Hamidi, who faced corruption charges', metadata={'source': 'pm_my.pdf'}),\n",
       " Document(page_content=\". Moreover, \\nformer Malaysian prime minister Najib Razak also saw his prison sentence halved and fine reduced \\nduring Anwar's tenure, sparking further controversy.\", metadata={'source': 'pm_my.pdf'}),\n",
       " Document(page_content=\"Anwar has long been an advocate for Islamic democracy and reforms to Malaysia's political system. \\nOutside of politics, Anwar has held positions at various academic institutions\", metadata={'source': 'pm_my.pdf'}),\n",
       " Document(page_content='. Unlike the previous Prime', metadata={'source': 'pm_my.pdf'}),\n",
       " Document(page_content='Ministers of Malaysia who held Hari Raya Aidilfitri open house at Seri Perdana, Anwar does not held Hari', metadata={'source': 'pm_my.pdf'}),\n",
       " Document(page_content='Raya Aidilfitri open house at Seri Perdana upon his appointment as tenth Prime Minister of Malaysia', metadata={'source': 'pm_my.pdf'}),\n",
       " Document(page_content='.', metadata={'source': 'pm_my.pdf'})]"
      ]
     },
     "execution_count": 4,
     "metadata": {},
     "output_type": "execute_result"
    }
   ],
   "source": [
    "all_splits"
   ]
  },
  {
   "cell_type": "code",
   "execution_count": 5,
   "id": "86e635c0",
   "metadata": {},
   "outputs": [
    {
     "name": "stderr",
     "output_type": "stream",
     "text": [
      "c:\\Users\\1000295970\\wd\\LLM\\.env\\lib\\site-packages\\tqdm\\auto.py:21: TqdmWarning: IProgress not found. Please update jupyter and ipywidgets. See https://ipywidgets.readthedocs.io/en/stable/user_install.html\n",
      "  from .autonotebook import tqdm as notebook_tqdm\n"
     ]
    }
   ],
   "source": [
    "from langchain_community.embeddings import HuggingFaceEmbeddings\n",
    "from langchain.vectorstores import FAISS\n",
    " \n",
    "modelPath = \"sentence-transformers/all-MiniLM-l6-v2\"\n",
    "\n",
    "model_kwargs = {'device':'cpu'}\n",
    " \n",
    "encode_kwargs = {'normalize_embeddings': False}\n",
    "\n",
    "hf = HuggingFaceEmbeddings(\n",
    "    model_name=modelPath,     \n",
    "    model_kwargs=model_kwargs, \n",
    "    encode_kwargs=encode_kwargs \n",
    ")\n",
    "\n",
    "vectorstore = FAISS.from_documents(all_splits, hf)\n",
    "vectorstore.save_local(\"local_vectors\")\n",
    "vectorstore = FAISS.load_local(\"local_vectors\", hf, allow_dangerous_deserialization=True)\n"
   ]
  },
  {
   "cell_type": "code",
   "execution_count": 35,
   "id": "2a4a212b",
   "metadata": {},
   "outputs": [],
   "source": [
    "retriever = vectorstore.as_retriever(search_kwargs={\"k\": 1, \"score_threshold\": 1.5})"
   ]
  },
  {
   "cell_type": "code",
   "execution_count": 36,
   "id": "655a0f9a",
   "metadata": {},
   "outputs": [
    {
     "name": "stdout",
     "output_type": "stream",
     "text": [
      "Anwar bin Ibrahim born 10 August 1947 is a Malaysian politician who has served as the tenth Prime Minister of Malaysia since 2022\n"
     ]
    }
   ],
   "source": [
    "docs = retriever.get_relevant_documents(\"10 August 1947\")\n",
    " \n",
    "for doc in docs:\n",
    "  print(doc.page_content.replace(\"\\n\", \"\"))"
   ]
  },
  {
   "cell_type": "code",
   "execution_count": 25,
   "id": "888a27b6",
   "metadata": {},
   "outputs": [
    {
     "ename": "AttributeError",
     "evalue": "'tuple' object has no attribute 'page_content'",
     "output_type": "error",
     "traceback": [
      "\u001b[1;31m---------------------------------------------------------------------------\u001b[0m",
      "\u001b[1;31mAttributeError\u001b[0m                            Traceback (most recent call last)",
      "Cell \u001b[1;32mIn[25], line 7\u001b[0m\n\u001b[0;32m      4\u001b[0m \u001b[38;5;66;03m# Iterate over the list and process each Document object\u001b[39;00m\n\u001b[0;32m      5\u001b[0m \u001b[38;5;28;01mfor\u001b[39;00m document \u001b[38;5;129;01min\u001b[39;00m document_list:\n\u001b[0;32m      6\u001b[0m     \u001b[38;5;66;03m# Access the page_content from the Document object\u001b[39;00m\n\u001b[1;32m----> 7\u001b[0m     page_content \u001b[38;5;241m=\u001b[39m \u001b[43mdocument\u001b[49m\u001b[38;5;241;43m.\u001b[39;49m\u001b[43mpage_content\u001b[49m\n\u001b[0;32m      9\u001b[0m     \u001b[38;5;66;03m# Remove newline characters from page_content\u001b[39;00m\n\u001b[0;32m     10\u001b[0m     cleaned_page_content \u001b[38;5;241m=\u001b[39m page_content\u001b[38;5;241m.\u001b[39mreplace(\u001b[38;5;124m\"\u001b[39m\u001b[38;5;130;01m\\n\u001b[39;00m\u001b[38;5;124m\"\u001b[39m, \u001b[38;5;124m\"\u001b[39m\u001b[38;5;124m\"\u001b[39m)\n",
      "\u001b[1;31mAttributeError\u001b[0m: 'tuple' object has no attribute 'page_content'"
     ]
    }
   ],
   "source": [
    "# Assuming your text is stored in a list of langchain_core.documents.base.Document objects called 'document_list'\n",
    "document_list = doc\n",
    "\n",
    "# Iterate over the list and process each Document object\n",
    "for document in document_list:\n",
    "    # Access the page_content from the Document object\n",
    "    page_content = document.page_content\n",
    "\n",
    "    # Remove newline characters from page_content\n",
    "    cleaned_page_content = page_content.replace(\"\\n\", \"\")\n",
    "\n",
    "    # Update the page_content attribute with the cleaned version\n",
    "    document.page_content = cleaned_page_content\n",
    "\n",
    "# Now each Document object in document_list has newline characters removed from its page_content attribute\n"
   ]
  },
  {
   "cell_type": "code",
   "execution_count": 80,
   "id": "5d5e0689",
   "metadata": {},
   "outputs": [
    {
     "name": "stdout",
     "output_type": "stream",
     "text": [
      "Hussien and Luca, respectively.\n",
      "\n",
      "I don't know the other information.\n"
     ]
    }
   ],
   "source": [
    "chain = prompt | model | parser\n",
    "\n",
    "print(chain.invoke({\"context\": \"My parents named me Naeem and my father's name is Hussien, Naeem has a cat named Luca\", \n",
    "                    \"question\": \"What's Naeem's father name and what his cat's name'?\"}))"
   ]
  },
  {
   "cell_type": "code",
   "execution_count": 53,
   "id": "6189e971",
   "metadata": {},
   "outputs": [],
   "source": [
    "from langchain.llms.huggingface_pipeline import HuggingFacePipeline\n",
    "import torch\n",
    "from transformers import AutoModelForCausalLM, AutoTokenizer, pipeline\n",
    "from transformers import BitsAndBytesConfig"
   ]
  },
  {
   "cell_type": "code",
   "execution_count": 18,
   "id": "03b2066e",
   "metadata": {},
   "outputs": [
    {
     "name": "stderr",
     "output_type": "stream",
     "text": [
      "Downloading shards: 100%|██████████| 3/3 [21:55<00:00, 438.45s/it]\n",
      "Loading checkpoint shards: 100%|██████████| 3/3 [00:00<00:00, 3000.22it/s]\n"
     ]
    },
    {
     "ename": "ValueError",
     "evalue": "You are trying to offload the whole model to the disk. Please use the `disk_offload` function instead.",
     "output_type": "error",
     "traceback": [
      "\u001b[1;31m---------------------------------------------------------------------------\u001b[0m",
      "\u001b[1;31mValueError\u001b[0m                                Traceback (most recent call last)",
      "Cell \u001b[1;32mIn[18], line 4\u001b[0m\n\u001b[0;32m      1\u001b[0m model_id \u001b[38;5;241m=\u001b[39m \u001b[38;5;124m\"\u001b[39m\u001b[38;5;124mpankajmathur/orca_mini_3b\u001b[39m\u001b[38;5;124m\"\u001b[39m\n\u001b[0;32m      3\u001b[0m tokenizer \u001b[38;5;241m=\u001b[39m AutoTokenizer\u001b[38;5;241m.\u001b[39mfrom_pretrained(model_id)\n\u001b[1;32m----> 4\u001b[0m model \u001b[38;5;241m=\u001b[39m \u001b[43mAutoModelForCausalLM\u001b[49m\u001b[38;5;241;43m.\u001b[39;49m\u001b[43mfrom_pretrained\u001b[49m\u001b[43m(\u001b[49m\n\u001b[0;32m      5\u001b[0m \u001b[43m                 \u001b[49m\u001b[43mmodel_id\u001b[49m\u001b[43m,\u001b[49m\n\u001b[0;32m      6\u001b[0m \u001b[43m                 \u001b[49m\u001b[43mdevice_map\u001b[49m\u001b[38;5;241;43m=\u001b[39;49m\u001b[38;5;124;43m\"\u001b[39;49m\u001b[38;5;124;43mauto\u001b[39;49m\u001b[38;5;124;43m\"\u001b[39;49m\n\u001b[0;32m      7\u001b[0m \u001b[43m                 \u001b[49m\u001b[43m)\u001b[49m\n\u001b[0;32m      8\u001b[0m pipe \u001b[38;5;241m=\u001b[39m pipeline(\u001b[38;5;124m\"\u001b[39m\u001b[38;5;124mtext-generation\u001b[39m\u001b[38;5;124m\"\u001b[39m,\n\u001b[0;32m      9\u001b[0m                model\u001b[38;5;241m=\u001b[39mmodel,\n\u001b[0;32m     10\u001b[0m                tokenizer\u001b[38;5;241m=\u001b[39mtokenizer,\n\u001b[0;32m     11\u001b[0m                 max_new_tokens\u001b[38;5;241m=\u001b[39m\u001b[38;5;241m1024\u001b[39m\n\u001b[0;32m     12\u001b[0m                )\n\u001b[0;32m     14\u001b[0m llm \u001b[38;5;241m=\u001b[39m HuggingFacePipeline(pipeline\u001b[38;5;241m=\u001b[39mpipe)\n",
      "File \u001b[1;32mc:\\Users\\1000295970\\wd\\LLM\\.env\\lib\\site-packages\\transformers\\models\\auto\\auto_factory.py:563\u001b[0m, in \u001b[0;36m_BaseAutoModelClass.from_pretrained\u001b[1;34m(cls, pretrained_model_name_or_path, *model_args, **kwargs)\u001b[0m\n\u001b[0;32m    561\u001b[0m \u001b[38;5;28;01melif\u001b[39;00m \u001b[38;5;28mtype\u001b[39m(config) \u001b[38;5;129;01min\u001b[39;00m \u001b[38;5;28mcls\u001b[39m\u001b[38;5;241m.\u001b[39m_model_mapping\u001b[38;5;241m.\u001b[39mkeys():\n\u001b[0;32m    562\u001b[0m     model_class \u001b[38;5;241m=\u001b[39m _get_model_class(config, \u001b[38;5;28mcls\u001b[39m\u001b[38;5;241m.\u001b[39m_model_mapping)\n\u001b[1;32m--> 563\u001b[0m     \u001b[38;5;28;01mreturn\u001b[39;00m model_class\u001b[38;5;241m.\u001b[39mfrom_pretrained(\n\u001b[0;32m    564\u001b[0m         pretrained_model_name_or_path, \u001b[38;5;241m*\u001b[39mmodel_args, config\u001b[38;5;241m=\u001b[39mconfig, \u001b[38;5;241m*\u001b[39m\u001b[38;5;241m*\u001b[39mhub_kwargs, \u001b[38;5;241m*\u001b[39m\u001b[38;5;241m*\u001b[39mkwargs\n\u001b[0;32m    565\u001b[0m     )\n\u001b[0;32m    566\u001b[0m \u001b[38;5;28;01mraise\u001b[39;00m \u001b[38;5;167;01mValueError\u001b[39;00m(\n\u001b[0;32m    567\u001b[0m     \u001b[38;5;124mf\u001b[39m\u001b[38;5;124m\"\u001b[39m\u001b[38;5;124mUnrecognized configuration class \u001b[39m\u001b[38;5;132;01m{\u001b[39;00mconfig\u001b[38;5;241m.\u001b[39m\u001b[38;5;18m__class__\u001b[39m\u001b[38;5;132;01m}\u001b[39;00m\u001b[38;5;124m for this kind of AutoModel: \u001b[39m\u001b[38;5;132;01m{\u001b[39;00m\u001b[38;5;28mcls\u001b[39m\u001b[38;5;241m.\u001b[39m\u001b[38;5;18m__name__\u001b[39m\u001b[38;5;132;01m}\u001b[39;00m\u001b[38;5;124m.\u001b[39m\u001b[38;5;130;01m\\n\u001b[39;00m\u001b[38;5;124m\"\u001b[39m\n\u001b[0;32m    568\u001b[0m     \u001b[38;5;124mf\u001b[39m\u001b[38;5;124m\"\u001b[39m\u001b[38;5;124mModel type should be one of \u001b[39m\u001b[38;5;132;01m{\u001b[39;00m\u001b[38;5;124m'\u001b[39m\u001b[38;5;124m, \u001b[39m\u001b[38;5;124m'\u001b[39m\u001b[38;5;241m.\u001b[39mjoin(c\u001b[38;5;241m.\u001b[39m\u001b[38;5;18m__name__\u001b[39m\u001b[38;5;250m \u001b[39m\u001b[38;5;28;01mfor\u001b[39;00m\u001b[38;5;250m \u001b[39mc\u001b[38;5;250m \u001b[39m\u001b[38;5;129;01min\u001b[39;00m\u001b[38;5;250m \u001b[39m\u001b[38;5;28mcls\u001b[39m\u001b[38;5;241m.\u001b[39m_model_mapping\u001b[38;5;241m.\u001b[39mkeys())\u001b[38;5;132;01m}\u001b[39;00m\u001b[38;5;124m.\u001b[39m\u001b[38;5;124m\"\u001b[39m\n\u001b[0;32m    569\u001b[0m )\n",
      "File \u001b[1;32mc:\\Users\\1000295970\\wd\\LLM\\.env\\lib\\site-packages\\transformers\\modeling_utils.py:3589\u001b[0m, in \u001b[0;36mPreTrainedModel.from_pretrained\u001b[1;34m(cls, pretrained_model_name_or_path, config, cache_dir, ignore_mismatched_sizes, force_download, local_files_only, token, revision, use_safetensors, *model_args, **kwargs)\u001b[0m\n\u001b[0;32m   3587\u001b[0m         device_map_kwargs[\u001b[38;5;124m\"\u001b[39m\u001b[38;5;124mskip_keys\u001b[39m\u001b[38;5;124m\"\u001b[39m] \u001b[38;5;241m=\u001b[39m model\u001b[38;5;241m.\u001b[39m_skip_keys_device_placement\n\u001b[0;32m   3588\u001b[0m     \u001b[38;5;28;01mif\u001b[39;00m \u001b[38;5;129;01mnot\u001b[39;00m is_fsdp_enabled() \u001b[38;5;129;01mand\u001b[39;00m \u001b[38;5;129;01mnot\u001b[39;00m is_deepspeed_zero3_enabled():\n\u001b[1;32m-> 3589\u001b[0m         dispatch_model(model, \u001b[38;5;241m*\u001b[39m\u001b[38;5;241m*\u001b[39mdevice_map_kwargs)\n\u001b[0;32m   3591\u001b[0m \u001b[38;5;28;01mif\u001b[39;00m hf_quantizer \u001b[38;5;129;01mis\u001b[39;00m \u001b[38;5;129;01mnot\u001b[39;00m \u001b[38;5;28;01mNone\u001b[39;00m:\n\u001b[0;32m   3592\u001b[0m     hf_quantizer\u001b[38;5;241m.\u001b[39mpostprocess_model(model)\n",
      "File \u001b[1;32mc:\\Users\\1000295970\\wd\\LLM\\.env\\lib\\site-packages\\accelerate\\big_modeling.py:490\u001b[0m, in \u001b[0;36mdispatch_model\u001b[1;34m(model, device_map, main_device, state_dict, offload_dir, offload_index, offload_buffers, skip_keys, preload_module_classes, force_hooks)\u001b[0m\n\u001b[0;32m    488\u001b[0m         model\u001b[38;5;241m.\u001b[39mto(device)\n\u001b[0;32m    489\u001b[0m     \u001b[38;5;28;01melse\u001b[39;00m:\n\u001b[1;32m--> 490\u001b[0m         \u001b[38;5;28;01mraise\u001b[39;00m \u001b[38;5;167;01mValueError\u001b[39;00m(\n\u001b[0;32m    491\u001b[0m             \u001b[38;5;124m\"\u001b[39m\u001b[38;5;124mYou are trying to offload the whole model to the disk. Please use the `disk_offload` function instead.\u001b[39m\u001b[38;5;124m\"\u001b[39m\n\u001b[0;32m    492\u001b[0m         )\n\u001b[0;32m    493\u001b[0m \u001b[38;5;66;03m# Convert OrderedDict back to dict for easier usage\u001b[39;00m\n\u001b[0;32m    494\u001b[0m model\u001b[38;5;241m.\u001b[39mhf_device_map \u001b[38;5;241m=\u001b[39m \u001b[38;5;28mdict\u001b[39m(device_map)\n",
      "\u001b[1;31mValueError\u001b[0m: You are trying to offload the whole model to the disk. Please use the `disk_offload` function instead."
     ]
    }
   ],
   "source": [
    "model_id = \"pankajmathur/orca_mini_3b\"\n",
    " \n",
    "tokenizer = AutoTokenizer.from_pretrained(model_id)\n",
    "model = AutoModelForCausalLM.from_pretrained(\n",
    "                 model_id,\n",
    "                 device_map=\"auto\"\n",
    "                 )\n",
    "pipe = pipeline(\"text-generation\",\n",
    "               model=model,\n",
    "               tokenizer=tokenizer,\n",
    "                max_new_tokens=1024\n",
    "               )\n",
    " \n",
    "llm = HuggingFacePipeline(pipeline=pipe)"
   ]
  },
  {
   "cell_type": "code",
   "execution_count": 63,
   "id": "b281d5b0",
   "metadata": {},
   "outputs": [
    {
     "data": {
      "text/plain": [
       "\"What do you call a boomerang that won't come back?\\n\\nA stick.\""
      ]
     },
     "execution_count": 63,
     "metadata": {},
     "output_type": "execute_result"
    }
   ],
   "source": [
    "from langchain_community.llms import Ollama\n",
    "from langchain_community.embeddings import OllamaEmbeddings\n",
    "\n",
    "\n",
    "MODEL = \"gemma:2b\"\n",
    "model = Ollama(model=MODEL)\n",
    "embeddings = OllamaEmbeddings(model=MODEL)\n",
    "\n",
    "model.invoke(\"Tell me a joke\")"
   ]
  },
  {
   "cell_type": "code",
   "execution_count": 64,
   "id": "b7a64357",
   "metadata": {},
   "outputs": [
    {
     "data": {
      "text/plain": [
       "\"What do you call a boomerang that won't come back?\\n\\nA stick.\""
      ]
     },
     "execution_count": 64,
     "metadata": {},
     "output_type": "execute_result"
    }
   ],
   "source": [
    "from langchain_core.output_parsers import StrOutputParser\n",
    "\n",
    "parser = StrOutputParser()\n",
    "\n",
    "chain = model | parser \n",
    "chain.invoke(\"Tell me a joke\")"
   ]
  },
  {
   "cell_type": "code",
   "execution_count": 77,
   "id": "dda3a6d3",
   "metadata": {},
   "outputs": [
    {
     "data": {
      "text/plain": [
       "'\\nAnswer the question based on the context below. If you can\\'t \\nanswer the question, reply \"I don\\'t know\".\\n\\nContext: Here is some context\\n\\nQuestion: Here is a question\\n'"
      ]
     },
     "execution_count": 77,
     "metadata": {},
     "output_type": "execute_result"
    }
   ],
   "source": [
    "from langchain.prompts import PromptTemplate\n",
    "\n",
    "template = \"\"\"\n",
    "Use the following pieces of context to answer the question at the end. \n",
    "If you don't know the answer, just say that you don't know, don't try to make up an answer. Do not try to change the context. Do not add any non context into the context.\n",
    "Use three sentences maximum and keep the answer as concise as possible. \n",
    "{context}\n",
    "Question: {question}\n",
    "Helpful Answer:\"\"\"\n",
    "\n",
    "prompt = PromptTemplate.from_template(template)\n",
    "prompt.format(context=\"Here is some context\", question=\"Here is a question\")"
   ]
  },
  {
   "cell_type": "code",
   "execution_count": null,
   "id": "2f757bae",
   "metadata": {},
   "outputs": [],
   "source": [
    "from langchain_community.document_loaders import PyPDFLoader\n",
    "from langchain_text_splitters import RecursiveCharacterTextSplitter\n",
    " \n",
    "loader = PyPDFLoader(\"pm_my.pdf\")\n",
    "data = loader.load()\n",
    " \n",
    "text_splitter = RecursiveCharacterTextSplitter(chunk_size=300, chunk_overlap=20, separators=[\n",
    "        \"\\n\\n\",\n",
    "        \".\",\n",
    "        \"\\n\",\n",
    "        \" \",\n",
    "        \n",
    "        \"\",\n",
    "    ])\n",
    "all_splits = text_splitter.split_documents(data)"
   ]
  },
  {
   "cell_type": "code",
   "execution_count": 66,
   "id": "e94fdc07",
   "metadata": {},
   "outputs": [
    {
     "data": {
      "text/plain": [
       "[Document(page_content=\"Anwar bin Ibrahim (Jawi: انور بن ابراهيم IPA: [anwar ɪbrah ɪm]; born 10 August 1947) is a Malaysian \\npolitician who has served as the tenth Prime Minister of Malaysia since 2022.  He served as the 12th and \\n16th Leader of the Opposition from 2008 to 2015 and again from 2020 to 2022. He has been the \\nchairman of the Pakatan Harapan (PH) coalition since 2020, the second President of the People's Justice \\nParty (PKR) since 2018 and the Member of Parliament (MP) for Tambun since November 2022. He also \\nserved as Deputy Prime Minister and in many other Cabinet positions in the Barisan Nasional (BN) \\nadministration under former Prime Minister Mahathir Mohamad from 1982 to his removal in 1998.  \\n \\nA graduate of the University of Malaya, Anwar started his political career as President of student union \\nPersatuan Kebangsaan Pelajar Islam Malaysia (PKPIM) and one of the founders and 2nd President of \\nyouth organisation Angkatan Belia Islam Malaysia (ABIM).  After joining the United Malays National \\nOrganisation (UMNO), the major party in the long -time ruling BN coalition, Anwar held several cabinet \\npositions in successive governments in the 1980s and 1990s. He was deputy prime minister and Finance \\nMinister during the 1990s and was prominent in Malaysia's response to the 1997 Asian financial crisis.[6] \\nIn 1998, he was removed from all posts by Prime Minister Mahathir Mohamad and went on to \\nspearhead the Reformasi movement against the government. Anwar was jailed in April 1999,[7] until his \\nrelease in 2004 after his conviction was overturned. He made a comeback as Leader of the Opposition \\nfrom 2008 to 2015 and coalesced opposition parties into the Pakatan Rakyat (PR) coalition, which \\nunsuccessfully contested in the 2008 and 2013 general elections. He disputed the results of the 2013 \\nelections and led a protest in response.  \\n \\nIn 2014, Anwar's attempt to become Selangor head of government in the 2014 Kajang Move led to a \\nnine -month political crisis, which ended when he was sentenced to another extensive five years \\nimprisonment after a second sodomy conviction in 2015.[8] While still in prison, Anwar re -joined \\nMahathir Mohamad in the new Pakatan Harapan (PH) coalition in absentia, which went on to win the \\n2018 general election. Mahathir outlined a plan for Anwar to take over from himself as prime minister \\nafter an unspecified interim period.[9] Anwar received a royal pardon from Yang di -Pertuan Agong \\nMuhammad V[10] and was released from prison in May 2018.[11][12] He returned to parliament in the \\n2018 Port Dickson by -election while his wife Wan Azizah Wan Ismail served as the Deputy Prime Minister \\nin the PH administration. The collapse of the coalition during the 2020 –22 Malaysian political crisis led to \\nthe new Perikatan Nasional (PN) coalition under Muhyiddin Yassin being sworn in and Anwar becoming \\nLeader of the Opposition for the second time in May 2020.  \\n \\nAfter leading Pakatan Harapan to win a plurality of seats at the 2022 Malaysian general election, Anwar \\nwas sworn in as the tenth Prime Minister of Malaysia on 24 November 2022.[13] On 2 December 2022, \\nAnwar appointed various members of Parliament from Pakatan Harapan, Gabungan Parti Sarawak (GPS), \\nand UMNO to serve as ministers in the cabinet of the newly formed unity government. Anwar named \\nhimself as the Finance Minister.[14] During his tenure, he and his government faced criticism for \\nimplementing numer ous conservative policies, as well as the discharge not amounting to the acquittal of \\ncurrent Malaysian deputy prime minister Ahmad Zahid Hamidi, who faced corruption charges.[15]\", metadata={'source': 'pm_my.pdf', 'page': 0}),\n",
       " Document(page_content=\"Moreover, former Malaysian prime minister Najib Razak also saw his prison sentence halved and fine \\nreduced during Anwar's tenure, sparking further controversy.  \\nAnwar has long been an advocate for Islamic democracy and reforms to Malaysia's political system. \\nOutside of politics, Anwar has held positions at various academic institutions. Unlike the previous Prime \\nMinisters of Malaysia who held Hari Raya Aidilfitri open house at Seri Perdana, Anwar does not held Hari \\nRaya Aidilfitri open house at Seri Perdana upon his appointment as tenth Prime Minister of Malaysia.\", metadata={'source': 'pm_my.pdf', 'page': 1})]"
      ]
     },
     "execution_count": 66,
     "metadata": {},
     "output_type": "execute_result"
    }
   ],
   "source": [
    "from langchain_community.document_loaders import PyPDFLoader\n",
    "\n",
    "loader = PyPDFLoader(\"pm_my.pdf\")\n",
    "pages = loader.load_and_split()\n",
    "pages"
   ]
  },
  {
   "cell_type": "code",
   "execution_count": 68,
   "id": "0a29bc39",
   "metadata": {},
   "outputs": [
    {
     "name": "stderr",
     "output_type": "stream",
     "text": [
      "c:\\Users\\1000295970\\wd\\LLM\\.env\\lib\\site-packages\\pydantic\\_migration.py:283: UserWarning: `pydantic.error_wrappers:ValidationError` has been moved to `pydantic:ValidationError`.\n",
      "  warnings.warn(f'`{import_path}` has been moved to `{new_location}`.')\n"
     ]
    }
   ],
   "source": [
    "from langchain_community.vectorstores import DocArrayInMemorySearch\n",
    "\n",
    "vectorstore = DocArrayInMemorySearch.from_documents(pages, embedding=embeddings)"
   ]
  },
  {
   "cell_type": "code",
   "execution_count": 81,
   "id": "e1b93ca0",
   "metadata": {},
   "outputs": [
    {
     "data": {
      "text/plain": [
       "[Document(page_content=\"Moreover, former Malaysian prime minister Najib Razak also saw his prison sentence halved and fine \\nreduced during Anwar's tenure, sparking further controversy.  \\nAnwar has long been an advocate for Islamic democracy and reforms to Malaysia's political system. \\nOutside of politics, Anwar has held positions at various academic institutions. Unlike the previous Prime \\nMinisters of Malaysia who held Hari Raya Aidilfitri open house at Seri Perdana, Anwar does not held Hari \\nRaya Aidilfitri open house at Seri Perdana upon his appointment as tenth Prime Minister of Malaysia.\", metadata={'source': 'pm_my.pdf', 'page': 1}),\n",
       " Document(page_content=\"Anwar bin Ibrahim (Jawi: انور بن ابراهيم IPA: [anwar ɪbrah ɪm]; born 10 August 1947) is a Malaysian \\npolitician who has served as the tenth Prime Minister of Malaysia since 2022.  He served as the 12th and \\n16th Leader of the Opposition from 2008 to 2015 and again from 2020 to 2022. He has been the \\nchairman of the Pakatan Harapan (PH) coalition since 2020, the second President of the People's Justice \\nParty (PKR) since 2018 and the Member of Parliament (MP) for Tambun since November 2022. He also \\nserved as Deputy Prime Minister and in many other Cabinet positions in the Barisan Nasional (BN) \\nadministration under former Prime Minister Mahathir Mohamad from 1982 to his removal in 1998.  \\n \\nA graduate of the University of Malaya, Anwar started his political career as President of student union \\nPersatuan Kebangsaan Pelajar Islam Malaysia (PKPIM) and one of the founders and 2nd President of \\nyouth organisation Angkatan Belia Islam Malaysia (ABIM).  After joining the United Malays National \\nOrganisation (UMNO), the major party in the long -time ruling BN coalition, Anwar held several cabinet \\npositions in successive governments in the 1980s and 1990s. He was deputy prime minister and Finance \\nMinister during the 1990s and was prominent in Malaysia's response to the 1997 Asian financial crisis.[6] \\nIn 1998, he was removed from all posts by Prime Minister Mahathir Mohamad and went on to \\nspearhead the Reformasi movement against the government. Anwar was jailed in April 1999,[7] until his \\nrelease in 2004 after his conviction was overturned. He made a comeback as Leader of the Opposition \\nfrom 2008 to 2015 and coalesced opposition parties into the Pakatan Rakyat (PR) coalition, which \\nunsuccessfully contested in the 2008 and 2013 general elections. He disputed the results of the 2013 \\nelections and led a protest in response.  \\n \\nIn 2014, Anwar's attempt to become Selangor head of government in the 2014 Kajang Move led to a \\nnine -month political crisis, which ended when he was sentenced to another extensive five years \\nimprisonment after a second sodomy conviction in 2015.[8] While still in prison, Anwar re -joined \\nMahathir Mohamad in the new Pakatan Harapan (PH) coalition in absentia, which went on to win the \\n2018 general election. Mahathir outlined a plan for Anwar to take over from himself as prime minister \\nafter an unspecified interim period.[9] Anwar received a royal pardon from Yang di -Pertuan Agong \\nMuhammad V[10] and was released from prison in May 2018.[11][12] He returned to parliament in the \\n2018 Port Dickson by -election while his wife Wan Azizah Wan Ismail served as the Deputy Prime Minister \\nin the PH administration. The collapse of the coalition during the 2020 –22 Malaysian political crisis led to \\nthe new Perikatan Nasional (PN) coalition under Muhyiddin Yassin being sworn in and Anwar becoming \\nLeader of the Opposition for the second time in May 2020.  \\n \\nAfter leading Pakatan Harapan to win a plurality of seats at the 2022 Malaysian general election, Anwar \\nwas sworn in as the tenth Prime Minister of Malaysia on 24 November 2022.[13] On 2 December 2022, \\nAnwar appointed various members of Parliament from Pakatan Harapan, Gabungan Parti Sarawak (GPS), \\nand UMNO to serve as ministers in the cabinet of the newly formed unity government. Anwar named \\nhimself as the Finance Minister.[14] During his tenure, he and his government faced criticism for \\nimplementing numer ous conservative policies, as well as the discharge not amounting to the acquittal of \\ncurrent Malaysian deputy prime minister Ahmad Zahid Hamidi, who faced corruption charges.[15]\", metadata={'source': 'pm_my.pdf', 'page': 0})]"
      ]
     },
     "execution_count": 81,
     "metadata": {},
     "output_type": "execute_result"
    }
   ],
   "source": [
    "retriever = vectorstore.as_retriever()\n",
    "\n",
    "retriever.invoke(\"10 August 1947\")"
   ]
  },
  {
   "cell_type": "code",
   "execution_count": null,
   "id": "082c0d55",
   "metadata": {},
   "outputs": [],
   "source": [
    "question = \"What is the structure of ADLREAD?\"\n",
    "print(f\"Answer: {chain.invoke({'question': question})}\")"
   ]
  },
  {
   "cell_type": "code",
   "execution_count": 70,
   "id": "1828b27c",
   "metadata": {},
   "outputs": [
    {
     "name": "stdout",
     "output_type": "stream",
     "text": [
      "Question: Who is anwar ibrahim?\n",
      "Answer: The context does not specify who Anwar Ibrahim is, so I cannot answer this question from the context.\n",
      "\n",
      "Question: who is najib razak?\n",
      "Answer: The context does not mention who Najib Razak is, so I cannot answer this question from the context.\n",
      "\n",
      "Question: which university anwar ibrahim graduated from?\n",
      "Answer: The context does not specify the university Anwar Ibrahim graduated from, so I cannot answer this question from the context.\n",
      "\n"
     ]
    }
   ],
   "source": [
    "from operator import itemgetter\n",
    "\n",
    "chain = (\n",
    "    {\n",
    "        \"context\": itemgetter(\"question\") | retriever,\n",
    "        \"question\": itemgetter(\"question\"),\n",
    "    }\n",
    "    | prompt\n",
    "    | model\n",
    "    | parser\n",
    ")\n",
    "\n",
    "questions = [\n",
    "    \"Who is anwar ibrahim?\",\n",
    "    \"who is najib razak?\",\n",
    "    \"which university anwar ibrahim graduated from?\",\n",
    "]\n",
    "\n",
    "for question in questions:\n",
    "    print(f\"Question: {question}\")\n",
    "    print(f\"Answer: {chain.invoke({'question': question})}\")\n",
    "    print()"
   ]
  },
  {
   "cell_type": "code",
   "execution_count": null,
   "id": "83631e87",
   "metadata": {},
   "outputs": [],
   "source": []
  }
 ],
 "metadata": {
  "kernelspec": {
   "display_name": "Python 3 (ipykernel)",
   "language": "python",
   "name": "python3"
  },
  "language_info": {
   "codemirror_mode": {
    "name": "ipython",
    "version": 3
   },
   "file_extension": ".py",
   "mimetype": "text/x-python",
   "name": "python",
   "nbconvert_exporter": "python",
   "pygments_lexer": "ipython3",
   "version": "3.10.1"
  }
 },
 "nbformat": 4,
 "nbformat_minor": 5
}
